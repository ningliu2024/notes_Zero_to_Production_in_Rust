{
 "cells": [
  {
   "cell_type": "markdown",
   "metadata": {},
   "source": [
    "# 1.1 Installing The Rust Toolchain"
   ]
  },
  {
   "cell_type": "markdown",
   "metadata": {},
   "source": [
    "Installing The Rust Toolchain\n",
    "- https://rustup.rs/"
   ]
  },
  {
   "cell_type": "code",
   "execution_count": null,
   "metadata": {
    "vscode": {
     "languageId": "shellscript"
    }
   },
   "outputs": [],
   "source": [
    "! curl --proto '=https' --tlsv1.2 -sSf https://sh.rustup.rs | sh"
   ]
  },
  {
   "cell_type": "markdown",
   "metadata": {},
   "source": [
    "Release Channels\n",
    "- stable\n",
    "- beta\n",
    "- nightly"
   ]
  },
  {
   "cell_type": "markdown",
   "metadata": {},
   "source": [
    "What Toolchains Do We Need?\n",
    "- `rustup update`: update your toolchains\n",
    "- `rustup toolchain list`: give you an overview of what is installed on your system"
   ]
  },
  {
   "cell_type": "code",
   "execution_count": 2,
   "metadata": {
    "vscode": {
     "languageId": "shellscript"
    }
   },
   "outputs": [
    {
     "name": "stdout",
     "output_type": "stream",
     "text": [
      "info: syncing channel updates for 'stable-x86_64-unknown-linux-gnu'\n",
      "info: checking for self-update\n",
      "\n",
      "  stable-x86_64-unknown-linux-gnu unchanged - rustc 1.81.0 (eeb90cda1 2024-09-04)\n",
      "\n",
      "info: cleaning up downloads & tmp directories\n"
     ]
    }
   ],
   "source": [
    "! rustup update"
   ]
  },
  {
   "cell_type": "code",
   "execution_count": 1,
   "metadata": {
    "vscode": {
     "languageId": "shellscript"
    }
   },
   "outputs": [
    {
     "name": "stdout",
     "output_type": "stream",
     "text": [
      "stable-x86_64-unknown-linux-gnu (default)\n"
     ]
    }
   ],
   "source": [
    "! rustup toolchain list"
   ]
  },
  {
   "cell_type": "markdown",
   "metadata": {},
   "source": [
    "# 1.2 Project Setup"
   ]
  },
  {
   "cell_type": "markdown",
   "metadata": {},
   "source": [
    "- `rustc`: the Rust compiler itself"
   ]
  },
  {
   "cell_type": "code",
   "execution_count": 3,
   "metadata": {
    "vscode": {
     "languageId": "shellscript"
    }
   },
   "outputs": [
    {
     "name": "stdout",
     "output_type": "stream",
     "text": [
      "rustc 1.81.0 (eeb90cda1 2024-09-04)\n"
     ]
    }
   ],
   "source": [
    "! rustc --version"
   ]
  },
  {
   "cell_type": "markdown",
   "metadata": {},
   "source": [
    "- `cargo` : Rust’s build tool"
   ]
  },
  {
   "cell_type": "code",
   "execution_count": 4,
   "metadata": {
    "vscode": {
     "languageId": "shellscript"
    }
   },
   "outputs": [
    {
     "name": "stdout",
     "output_type": "stream",
     "text": [
      "cargo 1.81.0 (2dbb1af80 2024-08-20)\n"
     ]
    }
   ],
   "source": [
    "! cargo --version"
   ]
  },
  {
   "cell_type": "markdown",
   "metadata": {},
   "source": [
    "use `cargo` to create the skeleton of the project we will be working on for the whole book:"
   ]
  },
  {
   "cell_type": "code",
   "execution_count": 1,
   "metadata": {
    "vscode": {
     "languageId": "shaderlab"
    }
   },
   "outputs": [
    {
     "name": "stdout",
     "output_type": "stream",
     "text": [
      "    Creating binary (application) `zero2prod` package\n",
      "note: see more `Cargo.toml` keys and their definitions at https://doc.rust-lang.org/cargo/reference/manifest.html\n"
     ]
    }
   ],
   "source": [
    "! cargo new zero2prod"
   ]
  },
  {
   "cell_type": "code",
   "execution_count": 2,
   "metadata": {
    "vscode": {
     "languageId": "shellscript"
    }
   },
   "outputs": [
    {
     "name": "stdout",
     "output_type": "stream",
     "text": [
      ".\n",
      "├── 01_Getting_Started.ipynb\n",
      "├── LICENSE\n",
      "├── README.md\n",
      "└── zero2prod\n",
      "    ├── Cargo.toml\n",
      "    └── src\n",
      "        └── main.rs\n",
      "\n",
      "2 directories, 5 files\n"
     ]
    }
   ],
   "source": [
    "! tree"
   ]
  },
  {
   "cell_type": "markdown",
   "metadata": {},
   "source": [
    "- git: Github Action"
   ]
  },
  {
   "cell_type": "markdown",
   "metadata": {},
   "source": [
    "> https://docs.github.com/en/authentication/connecting-to-github-with-ssh"
   ]
  },
  {
   "cell_type": "code",
   "execution_count": null,
   "metadata": {
    "vscode": {
     "languageId": "shellscript"
    }
   },
   "outputs": [],
   "source": [
    "! git config --global user.email \"renew2049@outlook.com\""
   ]
  },
  {
   "cell_type": "code",
   "execution_count": null,
   "metadata": {
    "vscode": {
     "languageId": "shellscript"
    }
   },
   "outputs": [],
   "source": [
    "! git config --global user.name \"nl\""
   ]
  },
  {
   "cell_type": "markdown",
   "metadata": {},
   "source": [
    "host the project on GitHub"
   ]
  },
  {
   "cell_type": "code",
   "execution_count": 5,
   "metadata": {
    "vscode": {
     "languageId": "shellscript"
    }
   },
   "outputs": [],
   "source": [
    "! git add ."
   ]
  },
  {
   "cell_type": "code",
   "execution_count": 8,
   "metadata": {
    "vscode": {
     "languageId": "shellscript"
    }
   },
   "outputs": [
    {
     "name": "stdout",
     "output_type": "stream",
     "text": [
      "[main eb746cd] Project skeleton\n",
      " 4 files changed, 347 insertions(+), 1 deletion(-)\n",
      " create mode 100644 01_Getting_Started.ipynb\n",
      " create mode 100644 zero2prod/Cargo.toml\n",
      " create mode 100644 zero2prod/src/main.rs\n"
     ]
    }
   ],
   "source": [
    "! git commit -am \"Project skeleton\""
   ]
  },
  {
   "cell_type": "code",
   "execution_count": 11,
   "metadata": {
    "vscode": {
     "languageId": "shellscript"
    }
   },
   "outputs": [
    {
     "name": "stdout",
     "output_type": "stream",
     "text": [
      "error: remote origin already exists.\n"
     ]
    }
   ],
   "source": [
    "! git remote add origin git@github.com:ningliu2024/zero2prod.git"
   ]
  },
  {
   "cell_type": "code",
   "execution_count": 12,
   "metadata": {
    "vscode": {
     "languageId": "shellscript"
    }
   },
   "outputs": [
    {
     "name": "stdout",
     "output_type": "stream",
     "text": [
      "To github.com:ningliu2024/notes_Zero_to_Production_in_Rust.git\n",
      "   d5233a4..eb746cd  main -> main\n",
      "Branch 'main' set up to track remote branch 'main' from 'origin'.\n"
     ]
    }
   ],
   "source": [
    "! git push -u origin main"
   ]
  },
  {
   "cell_type": "markdown",
   "metadata": {},
   "source": [
    "**GitHub Actions** feature for CI pipelines"
   ]
  },
  {
   "cell_type": "markdown",
   "metadata": {},
   "source": [
    "# 1.3 IDEs"
   ]
  },
  {
   "cell_type": "markdown",
   "metadata": {},
   "source": [
    "- Rust-analyzer: VSCode\n",
    "- IntelliJ Rust, RustRover"
   ]
  },
  {
   "cell_type": "markdown",
   "metadata": {},
   "source": [
    "# 1.4 Inner Development Loop"
   ]
  },
  {
   "cell_type": "markdown",
   "metadata": {},
   "source": [
    "- Make a change;\n",
    "- Compile the application;\n",
    "- Run tests;\n",
    "- Run the application.\n",
    "\n",
    "Rust does not help us here - compilation speed can become a pain point on big projects."
   ]
  },
  {
   "cell_type": "markdown",
   "metadata": {},
   "source": [
    "## Faster Linking"
   ]
  },
  {
   "cell_type": "code",
   "execution_count": null,
   "metadata": {
    "vscode": {
     "languageId": "toml"
    }
   },
   "outputs": [],
   "source": [
    "# .cargo/config.toml\n",
    "\n",
    "# On Windows\n",
    "# ```\n",
    "# cargo install -f cargo-binutils\n",
    "# rustup component add llvm-tools-preview\n",
    "# ```\n",
    "[target.x86_64-pc-windows-msvc]\n",
    "rustflags = [\"-C\", \"link-arg=-fuse-ld=lld\"]\n",
    "[target.x86_64-pc-windows-gnu]\n",
    "rustflags = [\"-C\", \"link-arg=-fuse-ld=lld\"]\n",
    "\n",
    "# On Linux:\n",
    "# - Ubuntu, `sudo apt-get install lld clang`\n",
    "# - Arch, `sudo pacman -S lld clang`\n",
    "[target.x86_64-unknown-linux-gnu]\n",
    "rustflags = [\"-C\", \"linker=clang\", \"-C\", \"link-arg=-fuse-ld=lld\"]\n",
    "\n",
    "# On MacOS, `brew install llvm` and follow steps in `brew info llvm`\n",
    "[target.x86_64-apple-darwin]\n",
    "rustflags = [\"-C\", \"link-arg=-fuse-ld=lld\"]\n",
    "[target.aarch64-apple-darwin]\n",
    "rustflags = [\"-C\", \"link-arg=-fuse-ld=/opt/homebrew/opt/llvm/bin/ld64.lld\"]"
   ]
  },
  {
   "cell_type": "markdown",
   "metadata": {},
   "source": [
    "> zld: Mac Apple\n",
    "\n",
    "> This might not truly be the case though - *mold* is the newest linker on the block and it looks even faster than lld! It feels a bitearly, so we will not be using it as our default linker, but consider checking it out."
   ]
  },
  {
   "cell_type": "markdown",
   "metadata": {},
   "source": [
    "## cargo-watch"
   ]
  },
  {
   "cell_type": "markdown",
   "metadata": {},
   "source": [
    "reducing the perceived compilation time - i.e. thetime you spend looking at your terminal waiting for `cargo check` or `cargo run` to complete."
   ]
  },
  {
   "cell_type": "code",
   "execution_count": 14,
   "metadata": {
    "vscode": {
     "languageId": "shellscript"
    }
   },
   "outputs": [
    {
     "name": "stdout",
     "output_type": "stream",
     "text": [
      "    Updating crates.io index\n",
      "     Ignored package `cargo-watch v8.5.2` is already installed, use --force to override\n"
     ]
    }
   ],
   "source": [
    "! cargo install cargo-watch"
   ]
  },
  {
   "cell_type": "markdown",
   "metadata": {},
   "source": [
    "*cargo-watch*: monitors your source code to trigger commands every time a file changes."
   ]
  },
  {
   "cell_type": "code",
   "execution_count": null,
   "metadata": {
    "vscode": {
     "languageId": "shellscript"
    }
   },
   "outputs": [],
   "source": [
    "! cd zero2prod && cargo watch -x check"
   ]
  },
  {
   "cell_type": "markdown",
   "metadata": {},
   "source": [
    "will run `cargo check` after every code change.<br/>\n",
    "This reduces the perceived compilation time:\n",
    "- you are still in your IDE, re-reading the code change you just made;\n",
    "- **cargo-watch**, in the meantime, has already kick-started the compilation process;\n",
    "- once you switch to your terminal, the compiler is already halfway through!"
   ]
  },
  {
   "cell_type": "markdown",
   "metadata": {},
   "source": [
    "**cargo-watch** supports command chaining as well:"
   ]
  },
  {
   "cell_type": "code",
   "execution_count": null,
   "metadata": {
    "vscode": {
     "languageId": "shellscript"
    }
   },
   "outputs": [],
   "source": [
    "! cargo watch -x check -x test -x run"
   ]
  },
  {
   "cell_type": "markdown",
   "metadata": {},
   "source": [
    "- It will start by running `cargo check.`\n",
    "- If it succeeds, it launches `cargo test`.\n",
    "- If tests pass, it launches the application with `cargo run`."
   ]
  },
  {
   "cell_type": "markdown",
   "metadata": {},
   "source": [
    "Our inner development loop, right there!"
   ]
  },
  {
   "cell_type": "markdown",
   "metadata": {},
   "source": [
    "# 1.5 Continuous Integration"
   ]
  },
  {
   "cell_type": "markdown",
   "metadata": {},
   "source": [
    "Continuous Integration\n",
    "- reduces the chances of having to sort out messy merge conflicts due tolong-lived branches.\n",
    "- tightens the feedback loop"
   ]
  }
 ],
 "metadata": {
  "kernelspec": {
   "display_name": "C++17",
   "language": "C++17",
   "name": "xcpp17"
  },
  "language_info": {
   "codemirror_mode": "text/x-c++src",
   "file_extension": ".cpp",
   "mimetype": "text/x-c++src",
   "name": "c++",
   "version": "17"
  }
 },
 "nbformat": 4,
 "nbformat_minor": 2
}
